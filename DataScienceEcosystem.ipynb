{
 "cells": [
  {
   "cell_type": "markdown",
   "id": "7e8b741d-f5f6-4a31-84d7-a112ba649f90",
   "metadata": {},
   "source": [
    "# Data Science Tools and Ecosystem"
   ]
  },
  {
   "cell_type": "markdown",
   "id": "0b77fd14-e87a-42b9-bc87-2b00d6b1302f",
   "metadata": {},
   "source": [
    "In this notebook, Data Science Tools and Ecosystem are summarized.\n"
   ]
  },
  {
   "cell_type": "markdown",
   "id": "cd71707d-0a0f-4521-8ce3-436b2784d3fc",
   "metadata": {},
   "source": [
    "**Objectives:**\r\n",
    "- List popular languages for Data Science\r\n",
    "- Identify commonly used libraries in Data Science\r\n",
    "- Explore open-source Data Science tools\r\n",
    "- Perform basic arithmetic operations in Python\r\n",
    "- Convert units (e.g., minutes to hours) using Python expressions\r\n"
   ]
  },
  {
   "cell_type": "markdown",
   "id": "62712a61-3e1e-453a-8ef3-afcf2790a205",
   "metadata": {},
   "source": [
    "Some of the popular languages that Data Scientists use are:\r\n",
    "\r\n",
    "1. Python\r\n",
    "2. R\r\n",
    "3. SQL\r\n",
    "4. Java\r\n",
    "5. Julia\r\n"
   ]
  },
  {
   "cell_type": "markdown",
   "id": "09b1cb83-2c71-462f-8ff8-dc6bc943b9a2",
   "metadata": {},
   "source": [
    "Some of the commonly used libraries used by Data Scientists include:\r\n",
    "\r\n",
    "1. Pandas\r\n",
    "2. NumPy\r\n",
    "3. Scikit-learn\r\n",
    "4. TensorFlow\r\n",
    "5. Matplotlib\r\n",
    "6. PyTorch\r\n"
   ]
  },
  {
   "cell_type": "markdown",
   "id": "2683b977-efaf-4973-9f20-4da6d7d61863",
   "metadata": {},
   "source": [
    "| Data Science Tools |\r\n",
    "|--------------------|\r\n",
    "| Jupyter Notebook  |\r\n",
    "| RStudio           |\r\n",
    "| Apache Zeppelin   |\r\n"
   ]
  },
  {
   "cell_type": "markdown",
   "id": "7845f7c2-9b18-4704-9274-38fff371815d",
   "metadata": {},
   "source": [
    "### Below are a few examples of evaluating arithmetic expressions in Python.\r\n"
   ]
  },
  {
   "cell_type": "markdown",
   "id": "423b65f9-fb30-4044-8c47-60eb85c3a536",
   "metadata": {},
   "source": [
    "# This is a simple arithmetic expression to multiply then add integers\r\n",
    "(3 * 4) + 5\r\n"
   ]
  },
  {
   "cell_type": "code",
   "execution_count": 6,
   "id": "a905664f-052b-4310-8ec6-c51b678db4e4",
   "metadata": {},
   "outputs": [
    {
     "data": {
      "text/plain": [
       "3.3333333333333335"
      ]
     },
     "execution_count": 6,
     "metadata": {},
     "output_type": "execute_result"
    }
   ],
   "source": [
    "# This will convert 200 minutes to hours by dividing by 60\n",
    "200 / 60"
   ]
  },
  {
   "cell_type": "markdown",
   "id": "fca49df7-18d1-48a3-bc50-79f0e8527ad2",
   "metadata": {},
   "source": [
    "## Author  \r",
    "Aviwe Dlepu\r\n"
   ]
  },
  {
   "cell_type": "code",
   "execution_count": null,
   "id": "7de156ac-6848-4963-b1c0-7021ddde7120",
   "metadata": {},
   "outputs": [],
   "source": []
  }
 ],
 "metadata": {
  "kernelspec": {
   "display_name": "Python 3 (ipykernel)",
   "language": "python",
   "name": "python3"
  },
  "language_info": {
   "codemirror_mode": {
    "name": "ipython",
    "version": 3
   },
   "file_extension": ".py",
   "mimetype": "text/x-python",
   "name": "python",
   "nbconvert_exporter": "python",
   "pygments_lexer": "ipython3",
   "version": "3.11.7"
  }
 },
 "nbformat": 4,
 "nbformat_minor": 5
}
